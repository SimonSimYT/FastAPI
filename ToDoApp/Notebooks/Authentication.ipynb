{
 "cells": [
  {
   "cell_type": "markdown",
   "metadata": {},
   "source": [
    "## Authentication of User"
   ]
  },
  {
   "cell_type": "code",
   "execution_count": null,
   "metadata": {},
   "outputs": [],
   "source": [
    "from fastapi.security import OAuth2PasswordRequestForm\n",
    "\n",
    "def verify_password(plain_password, hashed_password):\n",
    "    return bcrypt_context.verify(plain_password, hashed_password)\n",
    "\n",
    "def authenticate_user(username: str, password: str, db):\n",
    "    user = db.query(models.Users).filter(models.Users.username == username).first()\n",
    "    if not user:\n",
    "        return False\n",
    "    if not verify_password(password, user.hashed_password):\n",
    "        return False\n",
    "    return user\n",
    "\n",
    "@app.post(\"/token\")\n",
    "async def login_for_access_token(\n",
    "    form_data: OAuth2PasswordRequestForm = Depends(),\n",
    "    db: Session = Depends(get_db)):\n",
    "\n",
    "    user = authenticate_user(form_data.username, form_data.password, db)\n",
    "    if not user:\n",
    "        raise HTTPException(status_code=404, detail=\"User not Found\")\n",
    "    return \"Validated\"\n"
   ]
  },
  {
   "cell_type": "markdown",
   "metadata": {},
   "source": [
    "## Create Access token with JWT"
   ]
  },
  {
   "cell_type": "code",
   "execution_count": null,
   "metadata": {},
   "outputs": [],
   "source": [
    "# Bearer is type of token and JWT is a bearer type\n",
    "from fastapi.security import OAuth2PasswordRequestForm, OAuth2PasswordBearer\n",
    "from datetime import datetime, timedelta\n",
    "from jose import jwt\n",
    "\n",
    "SECRET_KEY = \"AGFAVHREHasjcffsewcs1243cvsdvcs\"\n",
    "ALGORITHM = \"HS256\"\n",
    "\n",
    "oauth2bearer = OAuth2PasswordBearer(tokenUrl=\"token\")\n",
    "\n",
    "def create_access_token(\n",
    "    username: str, user_id: int, expires_delta: Optional[timedelta] = None\n",
    "    ):\n",
    "    encode = {\"sub\": username, \"id\": user_id}\n",
    "    if expires_delta:\n",
    "        expire = datetime.utcnow() + expires_delta\n",
    "    else:\n",
    "        expire = datetime.utcnow() + timedelta(minutes=15)\n",
    "    encode.update(\"exp\": expire)\n",
    "    return jwt.encode(encode, SECRET_KEY, algorithm=ALGORITHM)\n",
    "\n",
    "@app.post(\"/token\")\n",
    "async def login_for_access_token(\n",
    "    form_data: OAuth2PasswordRequestForm = Depends(), db: Session = Depends(get_db)\n",
    "):\n",
    "    user = authenticate_user(form_data.username, form_data.password, db)\n",
    "    if not user:\n",
    "        raise HTTPException(status_code=404, details=\"User not found\")\n",
    "    token_expires = timedelta(minutes=20)\n",
    "    token = create_access_token(user.username, user.id, expires_delta=token_expires)\n",
    "    return {\"token\": token}"
   ]
  },
  {
   "cell_type": "markdown",
   "metadata": {},
   "source": [
    "## Getting the current user "
   ]
  },
  {
   "cell_type": "code",
   "execution_count": null,
   "metadata": {},
   "outputs": [],
   "source": [
    "from jose import jwt, JWTError\n",
    "\n",
    "async def get_current_user(token: str = Depends(oauth2_bearer)):\n",
    "    try:\n",
    "        payload = jwt.decode(token, SECRET_KEY, algorithms=[ALGORITHM])\n",
    "        username: str = payload.get(\"sub\")\n",
    "        user_id: int = payload.get(\"id\")\n",
    "        if username is None or user_id is None:\n",
    "            raise HTTPException(status_code=404, detail=\"User not found\")\n",
    "        return {\"username\": username, \"id\": user_id}        \n",
    "    except JWTError:\n",
    "        raise HTTPException(status_code=404, detail=\"User not found\")"
   ]
  },
  {
   "cell_type": "markdown",
   "metadata": {},
   "source": [
    "## Custom HTTP Exceptions"
   ]
  },
  {
   "cell_type": "code",
   "execution_count": null,
   "metadata": {},
   "outputs": [],
   "source": [
    "from fastapi import FastAPI, Depends, HTTPException, status\n",
    "def get_user_exception():\n",
    "    credentials_exception = HTTPException(\n",
    "        status_code=status.HTTP_401_UNAUTHORIZED\n",
    "        detail=\"Could not validate credentials\",\n",
    "        headers={\"WWW-Authenticate\": \"Bearer\"}\n",
    "    )\n",
    "    return credentials_exception\n",
    "\n",
    "def token_exception():\n",
    "    token_exception_response = HTTPException(\n",
    "        status_code=status.HTTP_401_UNAUTHORIZED\n",
    "        detail=\"Incorrect username or password\",\n",
    "        headers={\"WWW-Authenticate\": \"Bearer\"}\n",
    "    )\n",
    "    return token_exception_response\n",
    "\n",
    "@app.post(\"/token\")\n",
    "async def login_for_access_token(\n",
    "    form_data: OAuth2PasswordRequestForm = Depends(), db: Session = Depends(get_db)\n",
    "):\n",
    "    user = authenticate_user(form_data.username, form_data.password, db)\n",
    "    if not user:\n",
    "        raise token_exception()\n",
    "    token_expires = timedelta(minutes=20)\n",
    "    token = create_access_token(user.username, user.id, expires_delta=token_expires)\n",
    "\n",
    "    return {\"token\": token}\n",
    "\n",
    "async def get_current_user(token: str = Depends(oauth2bearer)):\n",
    "    try:\n",
    "        payload = jwt.decode(token, SECRET_KEY, algorithms=[ALGORITHM])\n",
    "        username: str = payload.get(\"sub\")\n",
    "        user_id: int = payload.get(\"id\")\n",
    "        if username is None or user_id is None:\n",
    "            raise get_user_exception()\n",
    "        return {\"username\": username, \"id\": user_id}\n",
    "    except JWTError:\n",
    "        raise get_user_exception()"
   ]
  }
 ],
 "metadata": {
  "language_info": {
   "name": "python"
  },
  "orig_nbformat": 4
 },
 "nbformat": 4,
 "nbformat_minor": 2
}
