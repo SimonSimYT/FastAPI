{
 "cells": [
  {
   "cell_type": "code",
   "execution_count": 4,
   "metadata": {},
   "outputs": [],
   "source": [
    "from fastapi import FastAPI\n",
    "\n",
    "app = FastAPI()\n",
    "\n",
    "BOOKS = {\n",
    "    'book1':{'title':'Title1','Author':'Author1'},\n",
    "    'book2':{'title':'Title2','Author':'Author2'},\n",
    "    'book3':{'title':'Title3','Author':'Author3'},\n",
    "    'book4':{'title':'Title4','Author':'Author4'},\n",
    "    'book5':{'title':'Title5','Author':'Author5'},\n",
    "}\n",
    "\n",
    "@app.get(\"/\")\n",
    "async def get_all_books():\n",
    "    return BOOKS\n"
   ]
  },
  {
   "cell_type": "markdown",
   "metadata": {},
   "source": [
    "Command to run the uvicorn server, --reload use for developemnt, application \n",
    "reload when src code is saved\n",
    "- uvicorn books:app --reload\n",
    "\n",
    "URL to access\n",
    "- http://127.0.0.1:8000\n",
    "- http://127.0.0.1:8000/docs\n",
    "- http://127.0.0.1:8000/openapi.json"
   ]
  },
  {
   "cell_type": "code",
   "execution_count": null,
   "metadata": {},
   "outputs": [],
   "source": [
    "@app.get(\"/books/mybook\")\n",
    "async def read_favourite_book():\n",
    "    return {\"title\":\"My favourite book\"}\n",
    "\n",
    "# path parameter API has to be under any API that follow the same path\n",
    "# /books/mybook will not work if below /books/{param}\n",
    "@app.get(\"/books/{book_title}\")\n",
    "async def read_book(book_title):\n",
    "    return {\"title\":book_title}\n",
    "\n",
    "@app.get(\"/books/{book_id}\")\n",
    "async def read_book_id(book_id:int):\n",
    "    return {\"book_id\":book_id}"
   ]
  },
  {
   "cell_type": "markdown",
   "metadata": {},
   "source": [
    "Dropdown list for the parameters in the SwaggerUI using Enum"
   ]
  },
  {
   "cell_type": "code",
   "execution_count": null,
   "metadata": {},
   "outputs": [],
   "source": [
    "from enum import Enum\n",
    "\n",
    "# Using Enum to create drop downlist for parameters\n",
    "class DirectionName(str, Enum):\n",
    "    north = \"North\"\n",
    "    south = \"South\"\n",
    "    east = \"East\"\n",
    "    west = \"West\"\n",
    "\n",
    "@app.get(\"/directions/{direction_name}\")\n",
    "async def get_direction(direction_name: DirectionName):\n",
    "    if direction_name == DirectionName.north:\n",
    "        return{\"Direction\":direction_name, \"sub\":\"Up\"}\n",
    "    if direction_name == DirectionName.west:\n",
    "        return{\"Direction\":direction_name, \"sub\":\"Left\"}\n",
    "    if direction_name == DirectionName.east:\n",
    "        return{\"Direction\":direction_name, \"sub\":\"Right\"}\n",
    "    return{\"Direction\":direction_name, \"sub\":\"Down\"}"
   ]
  }
 ],
 "metadata": {
  "interpreter": {
   "hash": "751a274996c7c5e0507020fbe97152624db367f5f2f64c20f62cd4e1076058ef"
  },
  "kernelspec": {
   "display_name": "Python 3.7.11 ('fastapi')",
   "language": "python",
   "name": "python3"
  },
  "language_info": {
   "name": "python",
   "version": "3.7.11"
  },
  "orig_nbformat": 4
 },
 "nbformat": 4,
 "nbformat_minor": 2
}
