{
 "cells": [
  {
   "cell_type": "markdown",
   "metadata": {},
   "source": [
    "The codes in this notebooks are snippets of code from the books.py file.\n",
    "\n",
    "This file is mainly a overview reference"
   ]
  },
  {
   "cell_type": "markdown",
   "metadata": {},
   "source": [
    "# Initial FASTAPI application\n",
    "\n",
    "A simple application to get all books"
   ]
  },
  {
   "cell_type": "code",
   "execution_count": 4,
   "metadata": {},
   "outputs": [],
   "source": [
    "from fastapi import FastAPI\n",
    "\n",
    "app = FastAPI()\n",
    "\n",
    "BOOKS = {\n",
    "    'book1':{'title':'Title1','Author':'Author1'},\n",
    "    'book2':{'title':'Title2','Author':'Author2'},\n",
    "    'book3':{'title':'Title3','Author':'Author3'},\n",
    "    'book4':{'title':'Title4','Author':'Author4'},\n",
    "    'book5':{'title':'Title5','Author':'Author5'},\n",
    "}\n",
    "\n",
    "@app.get(\"/\")\n",
    "async def get_all_books():\n",
    "    return BOOKS\n"
   ]
  },
  {
   "cell_type": "markdown",
   "metadata": {},
   "source": [
    "## Command to run the uvicorn server\n",
    "\n",
    "reload is use during developemnt, application reload when src code is saved\n",
    "- uvicorn books:app --reload\n",
    "\n",
    "URL to access\n",
    "- http://127.0.0.1:8000\n",
    "- http://127.0.0.1:8000/docs\n",
    "- http://127.0.0.1:8000/openapi.json"
   ]
  },
  {
   "cell_type": "code",
   "execution_count": null,
   "metadata": {},
   "outputs": [],
   "source": [
    "@app.get(\"/books/mybook\")\n",
    "async def read_favourite_book():\n",
    "    return {\"title\":\"My favourite book\"}\n",
    "\n",
    "# path parameter API has to be under any API that follow the same path\n",
    "# /books/mybook will not work if below /books/{param}\n",
    "@app.get(\"/books/{book_title}\")\n",
    "async def read_book(book_title):\n",
    "    return {\"title\":book_title}\n",
    "\n",
    "@app.get(\"/books/{book_id}\")\n",
    "async def read_book_id(book_id:int):\n",
    "    return {\"book_id\":book_id}"
   ]
  },
  {
   "cell_type": "markdown",
   "metadata": {},
   "source": [
    "## Enumerating the list of items from a class\n",
    "\n",
    "Dropdown list for the parameters in the SwaggerUI using Enum"
   ]
  },
  {
   "cell_type": "code",
   "execution_count": null,
   "metadata": {},
   "outputs": [],
   "source": [
    "from enum import Enum\n",
    "\n",
    "# Using Enum to create drop downlist for parameters\n",
    "class DirectionName(str, Enum):\n",
    "    north = \"North\"\n",
    "    south = \"South\"\n",
    "    east = \"East\"\n",
    "    west = \"West\"\n",
    "\n",
    "@app.get(\"/directions/{direction_name}\")\n",
    "async def get_direction(direction_name: DirectionName):\n",
    "    if direction_name == DirectionName.north:\n",
    "        return{\"Direction\":direction_name, \"sub\":\"Up\"}\n",
    "    if direction_name == DirectionName.west:\n",
    "        return{\"Direction\":direction_name, \"sub\":\"Left\"}\n",
    "    if direction_name == DirectionName.east:\n",
    "        return{\"Direction\":direction_name, \"sub\":\"Right\"}\n",
    "    return{\"Direction\":direction_name, \"sub\":\"Down\"}"
   ]
  },
  {
   "cell_type": "markdown",
   "metadata": {},
   "source": [
    "## FASTAPI Parameters Path\n",
    "\n",
    "book is skipped based off the values pass to parameters"
   ]
  },
  {
   "cell_type": "code",
   "execution_count": null,
   "metadata": {},
   "outputs": [],
   "source": [
    "from typing import Optional\n",
    "\n",
    "@app.get(\"/books/skipbook\")\n",
    "async def skip_books(skip_book: Optional[str] = None):\n",
    "    if skip_books:\n",
    "        new_books = BOOKS.copy()\n",
    "        del new_books[skip_book]\n",
    "        return new_books\n",
    "    return BOOKS"
   ]
  },
  {
   "cell_type": "markdown",
   "metadata": {},
   "source": [
    "## POST Method"
   ]
  },
  {
   "cell_type": "code",
   "execution_count": null,
   "metadata": {},
   "outputs": [],
   "source": [
    "@app.post(\"/\")\n",
    "async def create_book(title, author):\n",
    "    current_book_id = 0\n",
    "    if len(BOOKS) > 0:\n",
    "        for book in BOOKS:\n",
    "            x = int(book.split(\"_\")[-1])\n",
    "            if x > current_book_id:\n",
    "                current_book_id = x\n",
    "    BOOKS[f'book_{current_book_id+1}'] = {'title':title,'author':author}\n",
    "    return BOOKS[f'book_{current_book_id+1}']"
   ]
  },
  {
   "cell_type": "markdown",
   "metadata": {},
   "source": [
    "## PUT Method"
   ]
  },
  {
   "cell_type": "code",
   "execution_count": null,
   "metadata": {},
   "outputs": [],
   "source": [
    "@app.put(\"/{book_name}\")\n",
    "async def update_book(book_name:str, title:str, author:str):\n",
    "    book_information = {'title':title, 'author':author}\n",
    "    BOOKS[book_name] = book_information\n",
    "    return book_information"
   ]
  },
  {
   "cell_type": "markdown",
   "metadata": {},
   "source": [
    "## Delete Method"
   ]
  },
  {
   "cell_type": "code",
   "execution_count": null,
   "metadata": {},
   "outputs": [],
   "source": [
    "@app.delete(\"/{book_name}\")\n",
    "async def delete_book(book_name):\n",
    "    del BOOKS[book_name]\n",
    "    return f'{book_name} deleted'"
   ]
  }
 ],
 "metadata": {
  "interpreter": {
   "hash": "751a274996c7c5e0507020fbe97152624db367f5f2f64c20f62cd4e1076058ef"
  },
  "kernelspec": {
   "display_name": "Python 3.7.11 ('fastapi')",
   "language": "python",
   "name": "python3"
  },
  "language_info": {
   "codemirror_mode": {
    "name": "ipython",
    "version": 3
   },
   "file_extension": ".py",
   "mimetype": "text/x-python",
   "name": "python",
   "nbconvert_exporter": "python",
   "pygments_lexer": "ipython3",
   "version": "3.7.11"
  },
  "orig_nbformat": 4
 },
 "nbformat": 4,
 "nbformat_minor": 2
}
