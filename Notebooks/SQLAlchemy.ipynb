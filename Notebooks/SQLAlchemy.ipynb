{
 "cells": [
  {
   "cell_type": "markdown",
   "metadata": {},
   "source": [
    "## SQL Workflow based on own understanding\n",
    "\n",
    "1. Requisite for SQL engine\n",
    "1. LocalSession binded to engine\n",
    "1. Metadata structure binded to engine\n",
    "1. API call that depends on LocalSession"
   ]
  },
  {
   "cell_type": "markdown",
   "metadata": {},
   "source": [
    "## Database Connection with ORM SQL Alchemy"
   ]
  },
  {
   "cell_type": "code",
   "execution_count": null,
   "metadata": {},
   "outputs": [],
   "source": [
    "# database.py\n",
    "\n",
    "from sqlalchemy import create_engine\n",
    "from sqlalchemy.orm import sessionmaker\n",
    "from sqlalchemy.ext.declarative import declarative_base\n",
    "\n",
    "SQLALCHEMY_DATABASE_URL = \"sqlite:///./todos.db\"\n",
    "\n",
    "# Create SQL Alchemy Engine\n",
    "engine = create_engine(\n",
    "    SQLALCHEMY_DATABASE_URL, connect_args={\"check_same_thread\":False}\n",
    ")\n",
    "\n",
    "# Create session local class with the binding to engine\n",
    "SessionLocal = sessionmaker(autocommit=False, autoflush=False, bind=engine)\n",
    "\n",
    "# Create base for future inheritance\n",
    "Base = declarative_base()"
   ]
  },
  {
   "cell_type": "markdown",
   "metadata": {},
   "source": [
    "## Create class for tables\n",
    "\n",
    "- defined table schemas in models.py"
   ]
  },
  {
   "cell_type": "code",
   "execution_count": null,
   "metadata": {},
   "outputs": [],
   "source": [
    "# models.py\n",
    "\n",
    "from sqlalchemy import Boolean, Column, Integer, String\n",
    "from database import Base\n",
    "\n",
    "class Toodos(Base):\n",
    "    __tablename__ = \"todos\"\n",
    "    id = Column(Integer, primary_key=True, index=True)\n",
    "    title = Column(String)\n",
    "    description = Column(String)\n",
    "    priority = Column(Integer)\n",
    "    complete = Column(Boolean, default=False)"
   ]
  },
  {
   "cell_type": "markdown",
   "metadata": {},
   "source": [
    "## Create database from the main py file\n",
    "\n",
    "- cd to the main.py folder\n",
    "- uvicorn main:app --reload"
   ]
  },
  {
   "cell_type": "code",
   "execution_count": null,
   "metadata": {},
   "outputs": [],
   "source": [
    "# main.py \n",
    "from fastapi import FastAPI\n",
    "import models\n",
    "from database import engine\n",
    "\n",
    "app = FastAPI()\n",
    "\n",
    "# Bind the metadata with the engine\n",
    "models.Base.metadata.create_all(bind=engine)\n",
    "\n",
    "@app.get(\"/\")\n",
    "async def create_database():\n",
    "    return {\"Database\":\"Created\"}"
   ]
  },
  {
   "cell_type": "markdown",
   "metadata": {},
   "source": [
    "## Install SQLlite 3 with CLI\n",
    "\n",
    "- https://www.sqlite.org/download.html\n",
    "- sqlite-tools-win32-x86-3380500.zip\n",
    "- A bundle of command-line tools for managing SQLite database files, including the command-line shell program, the sqldiff.exe program, and the sqlite3_analyzer.exe program.\n",
    "- Copy the extracted files into C:/ and rename folder as sqlite3\n",
    "- Add into environmental PATH\n",
    "- sqlite3 should work on the Cli\n",
    "\n",
    "### Basic Operations 101\n",
    "\n",
    "#### INSERT\n",
    "\n",
    "    INSERT INTO todos(title, description, priority, complete)\n",
    "    VALUES (\"Go to Store\", \"Pick up Eggs\", 4, False);\n",
    "\n",
    "#### SELECT\n",
    "\n",
    "    SELECT * FROM todos\n",
    "    WHERE title = 'Feed dog';\n",
    "\n",
    "#### UPDATE\n",
    "\n",
    "    UPDATE todos SET complete=True\n",
    "    WHERE id=5;\n",
    "\n",
    "#### DELETE\n",
    "\n",
    "    DELETE FROM todos \n",
    "    WHERE id=5;\n",
    "\n",
    "#### Useful Commands\n",
    "    .schema\n",
    "    .mode column # formatted results\n",
    "    .mode markdown # formatted to markdown\n",
    "    .mode box # Within box\n",
    "    .mode table # Tabulated format"
   ]
  },
  {
   "cell_type": "markdown",
   "metadata": {},
   "source": [
    "## Implementing the query into API to read all records"
   ]
  },
  {
   "cell_type": "code",
   "execution_count": null,
   "metadata": {},
   "outputs": [],
   "source": [
    "from fastapi import FastAPI, Depends\n",
    "import models\n",
    "from database import engine, SessionLocal\n",
    "from sqlalchemy.orm import Session\n",
    "\n",
    "app = FastAPI()\n",
    "\n",
    "models.Base.metadata.create_all(bind=engine)\n",
    "\n",
    "# try to get database with local session, and close \n",
    "def get_db():\n",
    "    try:\n",
    "        db=SessionLocal()\n",
    "        yield db\n",
    "    finally:\n",
    "        db.close\n",
    "\n",
    "# Session depends on get_db function and run query against it to return all\n",
    "@app.get(\"/\")\n",
    "async def read_all(db:Session=Depends(get_db)):\n",
    "    return db.query(models.Todos).all()"
   ]
  },
  {
   "cell_type": "markdown",
   "metadata": {},
   "source": [
    "## API to retrive 1 record (GET)"
   ]
  },
  {
   "cell_type": "code",
   "execution_count": null,
   "metadata": {},
   "outputs": [],
   "source": [
    "from fastapi import FastAPI, Depends, HTTPException\n",
    "\n",
    "@app.get(\"/todo/{todo_id}\")\n",
    "async def read_todo(todo_id:int, db:Session = Depends(get_db)):\n",
    "    todo_model = db.query(models.Todos)\\\n",
    "        .filter(models.Todos.id == todo_id)\\\n",
    "        .first()\n",
    "    if todo_model is not None:\n",
    "        return todo_model\n",
    "    raise http_exception\n",
    "\n",
    "def http_exception():\n",
    "    return HTTPException(status_code=404, detail=\"Item not Found\")"
   ]
  },
  {
   "cell_type": "markdown",
   "metadata": {},
   "source": [
    "## API to Add Record (POST)"
   ]
  },
  {
   "cell_type": "code",
   "execution_count": null,
   "metadata": {},
   "outputs": [],
   "source": [
    "# main.py\n",
    "\n",
    "from typing import Optional\n",
    "from pydantic import BaseModel, Field\n",
    "\n",
    "class ToDo(BaseModel):\n",
    "    title: str\n",
    "    description: Optional[str]\n",
    "    priority: int = Field(gt=0, lt=6, description=\"Priority btw 1-5\")\n",
    "    complete: bool\n",
    "\n",
    "@app.post(\"/\")\n",
    "async def create_todo(todo: ToDo, db: Session = Depends(get_db)):\n",
    "    todo_model = models.Todos()\n",
    "    todo_model.titel = todo.title\n",
    "    todo_model.description = todo.description\n",
    "    todo_model.priority = todo.priority\n",
    "    todo_model.complete = todo.complete\n",
    "\n",
    "    db.add(todo_model)\n",
    "    db.commit()\n",
    "\n",
    "    return {\n",
    "        \"status\": 201,\n",
    "        \"transaction\": \"successful\"\n",
    "    }"
   ]
  },
  {
   "cell_type": "markdown",
   "metadata": {},
   "source": [
    "## API to Update Record (PUT)"
   ]
  },
  {
   "cell_type": "code",
   "execution_count": null,
   "metadata": {},
   "outputs": [],
   "source": [
    "@app.put(\"/{todo_id}\")\n",
    "async def update_todo(todo_id: int, todo: ToDo, db: Session = Depends(get_db)):\n",
    "    todo_model = db.query(models.Todos).filter(models.Todos.id == todo_id).first()\n",
    "\n",
    "    if todo_model is None:\n",
    "        raise http_exception()\n",
    "    todo_model.title = todo.title\n",
    "    todo_model.description = todo.description\n",
    "    todo_model.priority = todo.priority\n",
    "    todo_model.complete = todo.complete\n",
    "\n",
    "    db.add(todo_model)\n",
    "    db.commit()\n",
    "\n",
    "    return {\n",
    "        \"status\": 200,\n",
    "        \"transaction\": \"successful\"\n",
    "    }"
   ]
  },
  {
   "cell_type": "markdown",
   "metadata": {},
   "source": [
    "## API to delete record (DELETE)"
   ]
  },
  {
   "cell_type": "code",
   "execution_count": null,
   "metadata": {},
   "outputs": [],
   "source": [
    "@app.delete(\"/{todo_id}\")\n",
    "async def delete_todo(todo_id: int, db: Session = Depends(get_db)):\n",
    "    todo_model = db.query(models.Todos).filter(models.Todos.id == todo_id).first()\n",
    "\n",
    "    if todo_model is None:\n",
    "        raise http_exception()\n",
    "    \n",
    "    db.query(models.Todos).filter(models.Todos.id == todo_id).delete()\n",
    "\n",
    "    db.commit()\n",
    "\n",
    "    return successful_response(200)\n",
    "\n",
    "# updates made for reusability of success code\n",
    "def successful_response(status_code:int):\n",
    "    return {\n",
    "        \"status\": status_code,\n",
    "        \"transaction\": \"successful\"\n",
    "    }"
   ]
  }
 ],
 "metadata": {
  "interpreter": {
   "hash": "751a274996c7c5e0507020fbe97152624db367f5f2f64c20f62cd4e1076058ef"
  },
  "kernelspec": {
   "display_name": "Python 3.7.11 ('fastapi')",
   "language": "python",
   "name": "python3"
  },
  "language_info": {
   "codemirror_mode": {
    "name": "ipython",
    "version": 3
   },
   "file_extension": ".py",
   "mimetype": "text/x-python",
   "name": "python",
   "nbconvert_exporter": "python",
   "pygments_lexer": "ipython3",
   "version": "3.7.11"
  },
  "orig_nbformat": 4
 },
 "nbformat": 4,
 "nbformat_minor": 2
}
